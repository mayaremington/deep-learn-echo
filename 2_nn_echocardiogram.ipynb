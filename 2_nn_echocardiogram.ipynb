{
  "nbformat": 4,
  "nbformat_minor": 0,
  "metadata": {
    "colab": {
      "name": "2_nn_echocardiogram.ipynb",
      "provenance": [],
      "collapsed_sections": [],
      "machine_shape": "hm"
    },
    "kernelspec": {
      "name": "python3",
      "display_name": "Python 3"
    },
    "language_info": {
      "name": "python"
    },
    "accelerator": "GPU"
  },
  "cells": [
    {
      "cell_type": "markdown",
      "metadata": {
        "id": "vcxm9uJdfVv7"
      },
      "source": [
        "# Interpretating Echocardiograms using Neural Networks"
      ]
    },
    {
      "cell_type": "code",
      "metadata": {
        "colab": {
          "base_uri": "https://localhost:8080/"
        },
        "id": "ucs-J-QQvrZv",
        "outputId": "323bffd7-9274-427e-df7b-dd6165855653"
      },
      "source": [
        "!pip install -q git+https://github.com/tensorflow/docs"
      ],
      "execution_count": 1,
      "outputs": [
        {
          "output_type": "stream",
          "name": "stdout",
          "text": [
            "  Building wheel for tensorflow-docs (setup.py) ... \u001b[?25l\u001b[?25hdone\n"
          ]
        }
      ]
    },
    {
      "cell_type": "code",
      "metadata": {
        "id": "NzlSMCqiwDJy"
      },
      "source": [
        "\n",
        "from tensorflow import keras\n",
        "import tensorflow as tf\n",
        "from tensorflow.keras import Sequential\n",
        "from tensorflow.keras.layers import Dense, Conv2D, MaxPooling2D, Flatten, GlobalAveragePooling2D, InputLayer, Dropout\n",
        "\n",
        "import pandas as pd\n",
        "import numpy as np\n",
        "import matplotlib.pyplot as plt\n",
        "import seaborn as sns\n",
        "from sklearn.metrics import confusion_matrix, accuracy_score, f1_score, classification_report\n",
        "\n",
        "np.set_printoptions(suppress=True) # Suppress scientific notation where possible"
      ],
      "execution_count": 2,
      "outputs": []
    },
    {
      "cell_type": "markdown",
      "metadata": {
        "id": "7cE5jWsdxWZ9"
      },
      "source": [
        "## Import Data"
      ]
    },
    {
      "cell_type": "code",
      "metadata": {
        "colab": {
          "base_uri": "https://localhost:8080/"
        },
        "id": "KL6_Qk_Hd4q-",
        "outputId": "dd4561fd-3f6d-4d86-a440-a9c7eceec618"
      },
      "source": [
        "# connect to google drive\n",
        "\n",
        "from google.colab import drive\n",
        "drive.mount('/content/drive')"
      ],
      "execution_count": 3,
      "outputs": [
        {
          "output_type": "stream",
          "name": "stdout",
          "text": [
            "Drive already mounted at /content/drive; to attempt to forcibly remount, call drive.mount(\"/content/drive\", force_remount=True).\n"
          ]
        }
      ]
    },
    {
      "cell_type": "code",
      "metadata": {
        "id": "XhH1lm2jfVI6"
      },
      "source": [
        "#unziping file and saving to a new folder\n",
        "# -d creates a new file directory\n",
        "\n",
        "#!unzip drive/\"My Drive/Project_6_Echo/Test_Images/Test_Images.zip\" -d drive/\"My Drive/Project_6_Echo/Test_Images\""
      ],
      "execution_count": 4,
      "outputs": []
    },
    {
      "cell_type": "code",
      "metadata": {
        "id": "wsJwzh0TAo8T"
      },
      "source": [
        ""
      ],
      "execution_count": null,
      "outputs": []
    },
    {
      "cell_type": "code",
      "metadata": {
        "id": "VsaPhUsUmYIx"
      },
      "source": [
        "#!unzip \"/content/drive/MyDrive/Project_6_Echo/Train_Images/Train_Images.zip\" -d \"/content/drive/MyDrive/Project_6_Echo/New_Train\""
      ],
      "execution_count": 5,
      "outputs": []
    },
    {
      "cell_type": "markdown",
      "metadata": {
        "id": "IerT-rfQx8Yw"
      },
      "source": [
        "## Image Preprocessing"
      ]
    },
    {
      "cell_type": "code",
      "metadata": {
        "id": "Tyme9XDWvvvz",
        "colab": {
          "base_uri": "https://localhost:8080/"
        },
        "outputId": "60a8a87b-bbad-4c93-c831-77192fa90172"
      },
      "source": [
        "# generator for training set\n",
        "\n",
        "train_generator = tf.keras.preprocessing.image_dataset_from_directory(\n",
        "    directory='drive/MyDrive/Project_6_Echo/Training_Images', \n",
        "    labels='inferred',\n",
        "    label_mode='categorical',\n",
        "    color_mode='grayscale',\n",
        "    batch_size=32,\n",
        "    image_size=(112, 112),\n",
        "    seed=10)"
      ],
      "execution_count": 4,
      "outputs": [
        {
          "output_type": "stream",
          "name": "stdout",
          "text": [
            "Found 22176 files belonging to 3 classes.\n"
          ]
        }
      ]
    },
    {
      "cell_type": "code",
      "metadata": {
        "colab": {
          "base_uri": "https://localhost:8080/"
        },
        "id": "kbqC75UUkqzq",
        "outputId": "fb686195-acdb-43b7-c454-0862ae3e09f8"
      },
      "source": [
        "# generator for validation set\n",
        "\n",
        "val_generator = tf.keras.preprocessing.image_dataset_from_directory(\n",
        "    directory='drive/My Drive/Project_6_Echo/Val_Images', \n",
        "    labels='inferred',\n",
        "    label_mode='categorical',\n",
        "    color_mode='grayscale',\n",
        "    batch_size=32,\n",
        "    image_size=(112, 112),\n",
        "    seed=10)"
      ],
      "execution_count": 5,
      "outputs": [
        {
          "output_type": "stream",
          "name": "stdout",
          "text": [
            "Found 3819 files belonging to 3 classes.\n"
          ]
        }
      ]
    },
    {
      "cell_type": "code",
      "metadata": {
        "colab": {
          "base_uri": "https://localhost:8080/"
        },
        "id": "QFA7Jit8lBb8",
        "outputId": "58900df4-4b11-4ea7-e236-0c08309d291e"
      },
      "source": [
        "# generator for testing set\n",
        "\n",
        "test_generator = tf.keras.preprocessing.image_dataset_from_directory(\n",
        "    directory='drive/My Drive/Project_6_Echo/Test_Images', \n",
        "    labels='inferred',\n",
        "    label_mode='categorical',\n",
        "    color_mode='grayscale',\n",
        "    batch_size=32,\n",
        "    image_size=(112, 112),\n",
        "    seed=10)"
      ],
      "execution_count": 6,
      "outputs": [
        {
          "output_type": "stream",
          "name": "stdout",
          "text": [
            "Found 3792 files belonging to 3 classes.\n"
          ]
        }
      ]
    },
    {
      "cell_type": "markdown",
      "metadata": {
        "id": "CJ1ku7VOkFkg"
      },
      "source": [
        "## Modeling"
      ]
    },
    {
      "cell_type": "markdown",
      "metadata": {
        "id": "mnQtb6GsGCBL"
      },
      "source": [
        "### Model 1: Simple CNN w/ 30 epochs: train accuracy: 0.7523, val 0.694"
      ]
    },
    {
      "cell_type": "code",
      "metadata": {
        "id": "CSBHD7HdQtfv"
      },
      "source": [
        "NN = Sequential()\n",
        "\n",
        "NN.add(InputLayer(input_shape=(112, 112, 1)))\n",
        "\n",
        "NN.add(Conv2D(filters=10, kernel_size=3, activation='relu', padding='same'))\n",
        "NN.add(MaxPooling2D())\n",
        "NN.add(Conv2D(filters=20, kernel_size=3, activation='relu', padding='same'))\n",
        "NN.add(MaxPooling2D())\n",
        "NN.add(Conv2D(filters=30, kernel_size=3, activation='relu', padding='same'))\n",
        "NN.add(GlobalAveragePooling2D())\n",
        "\n",
        "NN.add(Flatten())\n",
        "NN.add(Dense(20, activation='relu'))\n",
        "NN.add(Dropout(.20))\n",
        "NN.add(Dense(3, activation='softmax'))  # 3 target classes\n",
        "\n",
        "NN.compile(\n",
        "    loss='categorical_crossentropy',\n",
        "    optimizer='adam',\n",
        "    metrics=['accuracy'],\n",
        ")\n",
        "NN.summary()\n",
        "NN.fit(train_generator, epochs=30)"
      ],
      "execution_count": null,
      "outputs": []
    },
    {
      "cell_type": "code",
      "metadata": {
        "colab": {
          "base_uri": "https://localhost:8080/"
        },
        "id": "PukulQl43ist",
        "outputId": "a54147e0-978b-40e7-eea5-c30c98fa621f"
      },
      "source": [
        "# save the specified model to google drive\n",
        "\n",
        "NN.save('model_1')"
      ],
      "execution_count": 9,
      "outputs": [
        {
          "output_type": "stream",
          "name": "stdout",
          "text": [
            "INFO:tensorflow:Assets written to: model_1/assets\n"
          ]
        }
      ]
    },
    {
      "cell_type": "code",
      "metadata": {
        "id": "w97vPJ3PkHOP"
      },
      "source": [
        "def get_y_ypred(generator_name, model):\n",
        "  '''Extracts labels (y) and predictions (y_pred) from generator and model)\n",
        "  '''\n",
        "  predictions = np.array([])\n",
        "  labels = np.array([])\n",
        "  for x, y in generator_name:\n",
        "    predictions = np.concatenate((predictions, np.argmax(model.predict(x), axis=1)))\n",
        "    labels = np.concatenate((labels, np.argmax(y, axis=1)))\n",
        "  return labels, predictions"
      ],
      "execution_count": null,
      "outputs": []
    },
    {
      "cell_type": "code",
      "metadata": {
        "colab": {
          "base_uri": "https://localhost:8080/"
        },
        "id": "O5sFcC6ultPO",
        "outputId": "66b3cc99-2ce9-424c-94c3-6fb89bbd4984"
      },
      "source": [
        "# accuracy on training data\n",
        "\n",
        "y_train, y_pred_train = get_y_ypred(train_generator, model=NN)\n",
        "accuracy_score(y_train, y_pred_train)"
      ],
      "execution_count": 33,
      "outputs": [
        {
          "output_type": "execute_result",
          "data": {
            "text/plain": [
              "0.7253787878787878"
            ]
          },
          "metadata": {},
          "execution_count": 33
        }
      ]
    },
    {
      "cell_type": "code",
      "metadata": {
        "colab": {
          "base_uri": "https://localhost:8080/"
        },
        "id": "ltMe11z-H0Db",
        "outputId": "d354a4f1-bcba-4cff-da53-b79b69d81fe5"
      },
      "source": [
        "# accuracy on validation data\n",
        "\n",
        "y_val, y_pred_val = get_y_ypred(val_generator, model=NN)\n",
        "accuracy_score(y_val, y_pred_val)"
      ],
      "execution_count": 34,
      "outputs": [
        {
          "output_type": "execute_result",
          "data": {
            "text/plain": [
              "0.6949463210264467"
            ]
          },
          "metadata": {},
          "execution_count": 34
        }
      ]
    },
    {
      "cell_type": "code",
      "metadata": {
        "id": "mOG9FIGjC-f9"
      },
      "source": [
        "# loads saved model\n",
        "\n",
        "reconstructed_NN = keras.models.load_model('model_1')"
      ],
      "execution_count": 24,
      "outputs": []
    },
    {
      "cell_type": "code",
      "metadata": {
        "id": "kPK0QOaCGsKl"
      },
      "source": [
        "# using reconstructed model\n",
        "\n",
        "y1_train, y1pred_train = get_y_ypred(train_generator, model=reconstructed_NN)"
      ],
      "execution_count": 25,
      "outputs": []
    },
    {
      "cell_type": "markdown",
      "metadata": {
        "id": "rnq_WZxCQbzb"
      },
      "source": [
        "### Model 2: more complex CNN - train accuracy: 0.7789, val 0.729"
      ]
    },
    {
      "cell_type": "code",
      "metadata": {
        "colab": {
          "base_uri": "https://localhost:8080/"
        },
        "id": "3ZLZh1MwVDDV",
        "outputId": "4189d53a-96c3-4490-87f3-eb66d7aa1027"
      },
      "source": [
        "NN = Sequential()\n",
        "\n",
        "NN.add(InputLayer(input_shape=(112, 112, 1)))\n",
        "\n",
        "NN.add(Conv2D(filters=10, kernel_size=3, activation='relu', padding='same'))\n",
        "NN.add(MaxPooling2D())\n",
        "NN.add(Conv2D(filters=20, kernel_size=3, activation='relu', padding='same'))\n",
        "NN.add(MaxPooling2D())\n",
        "NN.add(Conv2D(filters=30, kernel_size=3, activation='relu', padding='same'))\n",
        "NN.add(GlobalAveragePooling2D())\n",
        "\n",
        "NN.add(Flatten())\n",
        "NN.add(Dense(200, activation='relu'))\n",
        "NN.add(Dropout(.30))\n",
        "NN.add(Dense(3, activation='softmax'))  # 3 target classes\n",
        "\n",
        "NN.compile(\n",
        "    loss='categorical_crossentropy',\n",
        "    optimizer='adam',\n",
        "    metrics=['accuracy'],\n",
        ")\n",
        "NN.summary()\n",
        "NN.fit(train_generator, epochs=30)"
      ],
      "execution_count": 23,
      "outputs": [
        {
          "output_type": "stream",
          "name": "stdout",
          "text": [
            "Model: \"sequential_1\"\n",
            "_________________________________________________________________\n",
            "Layer (type)                 Output Shape              Param #   \n",
            "=================================================================\n",
            "conv2d_3 (Conv2D)            (None, 112, 112, 10)      100       \n",
            "_________________________________________________________________\n",
            "max_pooling2d_2 (MaxPooling2 (None, 56, 56, 10)        0         \n",
            "_________________________________________________________________\n",
            "conv2d_4 (Conv2D)            (None, 56, 56, 20)        1820      \n",
            "_________________________________________________________________\n",
            "max_pooling2d_3 (MaxPooling2 (None, 28, 28, 20)        0         \n",
            "_________________________________________________________________\n",
            "conv2d_5 (Conv2D)            (None, 28, 28, 30)        5430      \n",
            "_________________________________________________________________\n",
            "global_average_pooling2d_1 ( (None, 30)                0         \n",
            "_________________________________________________________________\n",
            "flatten_1 (Flatten)          (None, 30)                0         \n",
            "_________________________________________________________________\n",
            "dense_2 (Dense)              (None, 200)               6200      \n",
            "_________________________________________________________________\n",
            "dropout_1 (Dropout)          (None, 200)               0         \n",
            "_________________________________________________________________\n",
            "dense_3 (Dense)              (None, 3)                 603       \n",
            "=================================================================\n",
            "Total params: 14,153\n",
            "Trainable params: 14,153\n",
            "Non-trainable params: 0\n",
            "_________________________________________________________________\n",
            "Epoch 1/30\n",
            "693/693 [==============================] - 13s 17ms/step - loss: 1.0359 - accuracy: 0.4415\n",
            "Epoch 2/30\n",
            "693/693 [==============================] - 12s 17ms/step - loss: 0.8795 - accuracy: 0.5760\n",
            "Epoch 3/30\n",
            "693/693 [==============================] - 12s 17ms/step - loss: 0.8119 - accuracy: 0.6222\n",
            "Epoch 4/30\n",
            "693/693 [==============================] - 12s 17ms/step - loss: 0.7617 - accuracy: 0.6505\n",
            "Epoch 5/30\n",
            "693/693 [==============================] - 12s 17ms/step - loss: 0.7338 - accuracy: 0.6690\n",
            "Epoch 6/30\n",
            "693/693 [==============================] - 12s 17ms/step - loss: 0.7067 - accuracy: 0.6841\n",
            "Epoch 7/30\n",
            "693/693 [==============================] - 12s 17ms/step - loss: 0.6855 - accuracy: 0.6965\n",
            "Epoch 8/30\n",
            "693/693 [==============================] - 12s 17ms/step - loss: 0.6683 - accuracy: 0.7078\n",
            "Epoch 9/30\n",
            "693/693 [==============================] - 12s 16ms/step - loss: 0.6510 - accuracy: 0.7124\n",
            "Epoch 10/30\n",
            "693/693 [==============================] - 11s 16ms/step - loss: 0.6392 - accuracy: 0.7229\n",
            "Epoch 11/30\n",
            "693/693 [==============================] - 12s 17ms/step - loss: 0.6263 - accuracy: 0.7244\n",
            "Epoch 12/30\n",
            "693/693 [==============================] - 11s 16ms/step - loss: 0.6222 - accuracy: 0.7275\n",
            "Epoch 13/30\n",
            "693/693 [==============================] - 11s 16ms/step - loss: 0.6139 - accuracy: 0.7330\n",
            "Epoch 14/30\n",
            "693/693 [==============================] - 12s 16ms/step - loss: 0.6020 - accuracy: 0.7375\n",
            "Epoch 15/30\n",
            "693/693 [==============================] - 11s 16ms/step - loss: 0.5914 - accuracy: 0.7429\n",
            "Epoch 16/30\n",
            "693/693 [==============================] - 11s 16ms/step - loss: 0.5911 - accuracy: 0.7414\n",
            "Epoch 17/30\n",
            "693/693 [==============================] - 12s 16ms/step - loss: 0.5770 - accuracy: 0.7498\n",
            "Epoch 18/30\n",
            "693/693 [==============================] - 11s 16ms/step - loss: 0.5697 - accuracy: 0.7525\n",
            "Epoch 19/30\n",
            "693/693 [==============================] - 11s 16ms/step - loss: 0.5679 - accuracy: 0.7538\n",
            "Epoch 20/30\n",
            "693/693 [==============================] - 12s 16ms/step - loss: 0.5597 - accuracy: 0.7569\n",
            "Epoch 21/30\n",
            "693/693 [==============================] - 11s 16ms/step - loss: 0.5520 - accuracy: 0.7603\n",
            "Epoch 22/30\n",
            "693/693 [==============================] - 12s 17ms/step - loss: 0.5436 - accuracy: 0.7638\n",
            "Epoch 23/30\n",
            "693/693 [==============================] - 12s 17ms/step - loss: 0.5411 - accuracy: 0.7655\n",
            "Epoch 24/30\n",
            "693/693 [==============================] - 12s 17ms/step - loss: 0.5355 - accuracy: 0.7690\n",
            "Epoch 25/30\n",
            "693/693 [==============================] - 11s 16ms/step - loss: 0.5340 - accuracy: 0.7700\n",
            "Epoch 26/30\n",
            "693/693 [==============================] - 11s 16ms/step - loss: 0.5279 - accuracy: 0.7720\n",
            "Epoch 27/30\n",
            "693/693 [==============================] - 12s 16ms/step - loss: 0.5214 - accuracy: 0.7744\n",
            "Epoch 28/30\n",
            "693/693 [==============================] - 11s 16ms/step - loss: 0.5162 - accuracy: 0.7755\n",
            "Epoch 29/30\n",
            "693/693 [==============================] - 11s 16ms/step - loss: 0.5137 - accuracy: 0.7791\n",
            "Epoch 30/30\n",
            "693/693 [==============================] - 12s 16ms/step - loss: 0.5003 - accuracy: 0.7873\n"
          ]
        },
        {
          "output_type": "execute_result",
          "data": {
            "text/plain": [
              "<keras.callbacks.History at 0x7f0715e76f50>"
            ]
          },
          "metadata": {},
          "execution_count": 23
        }
      ]
    },
    {
      "cell_type": "code",
      "metadata": {
        "colab": {
          "base_uri": "https://localhost:8080/"
        },
        "id": "ZCU8MYDqaJvM",
        "outputId": "a59fd3fc-03a1-4562-c7be-0c611e1afcec"
      },
      "source": [
        "# save the model to google drive\n",
        "# will revisit this model in final model section\n",
        "\n",
        "NN.save('model_2')"
      ],
      "execution_count": 8,
      "outputs": [
        {
          "output_type": "stream",
          "name": "stdout",
          "text": [
            "INFO:tensorflow:Assets written to: model_2/assets\n"
          ]
        }
      ]
    },
    {
      "cell_type": "markdown",
      "metadata": {
        "id": "N4ROpFEmZNNq"
      },
      "source": [
        "### Model 3: more complex CNN, accuracy: train 0.7928, val 0.720\n",
        ">- So model appears overfit"
      ]
    },
    {
      "cell_type": "code",
      "metadata": {
        "colab": {
          "base_uri": "https://localhost:8080/"
        },
        "id": "k85iwxX0Z9U9",
        "outputId": "4650e115-e2c7-4a5d-e192-dab124dcfbb5"
      },
      "source": [
        "NN = Sequential()\n",
        "\n",
        "NN.add(InputLayer(input_shape=(112, 112, 1)))\n",
        "\n",
        "NN.add(Conv2D(filters=10, kernel_size=3, activation='relu', padding='same'))\n",
        "NN.add(MaxPooling2D())\n",
        "NN.add(Conv2D(filters=20, kernel_size=3, activation='relu', padding='same'))\n",
        "NN.add(MaxPooling2D())\n",
        "NN.add(Conv2D(filters=30, kernel_size=3, activation='relu', padding='same'))\n",
        "NN.add(GlobalAveragePooling2D())\n",
        "\n",
        "NN.add(Flatten())\n",
        "NN.add(Dense(500, activation='relu'))\n",
        "NN.add(Dropout(.30))\n",
        "NN.add(Dense(200, activation='relu'))\n",
        "NN.add(Dropout(.30))\n",
        "NN.add(Dense(3, activation='softmax'))  # 3 target classes\n",
        "\n",
        "NN.compile(\n",
        "    loss='categorical_crossentropy',\n",
        "    optimizer='adam',\n",
        "    metrics=['accuracy'],\n",
        ")\n",
        "NN.summary()\n",
        "NN.fit(train_generator, epochs=30)"
      ],
      "execution_count": 107,
      "outputs": [
        {
          "output_type": "stream",
          "name": "stdout",
          "text": [
            "693/693 [==============================] - 15s 22ms/step - loss: 0.6133 - accuracy: 0.7361\n",
            "Epoch 14/30\n",
            "693/693 [==============================] - 16s 23ms/step - loss: 0.6019 - accuracy: 0.7442\n",
            "Epoch 15/30\n",
            "693/693 [==============================] - 16s 22ms/step - loss: 0.5946 - accuracy: 0.7427\n",
            "Epoch 16/30\n",
            "693/693 [==============================] - 16s 22ms/step - loss: 0.5875 - accuracy: 0.7471\n",
            "Epoch 17/30\n",
            "693/693 [==============================] - 16s 23ms/step - loss: 0.5747 - accuracy: 0.7491\n",
            "Epoch 18/30\n",
            "693/693 [==============================] - 17s 24ms/step - loss: 0.5706 - accuracy: 0.7555\n",
            "Epoch 19/30\n",
            "693/693 [==============================] - 17s 24ms/step - loss: 0.5611 - accuracy: 0.7595\n",
            "Epoch 20/30\n",
            "693/693 [==============================] - 17s 24ms/step - loss: 0.5522 - accuracy: 0.7642\n",
            "Epoch 21/30\n",
            "693/693 [==============================] - 17s 25ms/step - loss: 0.5479 - accuracy: 0.7670\n",
            "Epoch 22/30\n",
            "693/693 [==============================] - 17s 24ms/step - loss: 0.5421 - accuracy: 0.7685\n",
            "Epoch 23/30\n",
            "693/693 [==============================] - 17s 24ms/step - loss: 0.5377 - accuracy: 0.7715\n",
            "Epoch 24/30\n",
            "693/693 [==============================] - 17s 25ms/step - loss: 0.5293 - accuracy: 0.7760\n",
            "Epoch 25/30\n",
            "693/693 [==============================] - 17s 25ms/step - loss: 0.5228 - accuracy: 0.7784\n",
            "Epoch 26/30\n",
            "693/693 [==============================] - 17s 24ms/step - loss: 0.5163 - accuracy: 0.7815\n",
            "Epoch 27/30\n",
            "693/693 [==============================] - 17s 24ms/step - loss: 0.5132 - accuracy: 0.7836\n",
            "Epoch 28/30\n",
            "693/693 [==============================] - 17s 24ms/step - loss: 0.5012 - accuracy: 0.7855\n",
            "Epoch 29/30\n",
            "693/693 [==============================] - 17s 24ms/step - loss: 0.5070 - accuracy: 0.7870\n",
            "Epoch 30/30\n",
            "693/693 [==============================] - 17s 24ms/step - loss: 0.4957 - accuracy: 0.7928\n"
          ]
        },
        {
          "output_type": "execute_result",
          "data": {
            "text/plain": [
              "<keras.callbacks.History at 0x7fc9f891dc50>"
            ]
          },
          "metadata": {},
          "execution_count": 107
        }
      ]
    },
    {
      "cell_type": "markdown",
      "metadata": {
        "id": "j8Es7EjmbCIL"
      },
      "source": [
        ""
      ]
    },
    {
      "cell_type": "code",
      "metadata": {
        "colab": {
          "base_uri": "https://localhost:8080/"
        },
        "id": "3WUT0j53Mqfg",
        "outputId": "30b327c4-7f03-4872-f262-472cee352a2f"
      },
      "source": [
        "# save the model to google drive\n",
        "\n",
        "NN.save('model_3')"
      ],
      "execution_count": 108,
      "outputs": [
        {
          "output_type": "stream",
          "name": "stdout",
          "text": [
            "INFO:tensorflow:Assets written to: model_3/assets\n"
          ]
        }
      ]
    },
    {
      "cell_type": "code",
      "metadata": {
        "colab": {
          "base_uri": "https://localhost:8080/"
        },
        "id": "eADzvAtaGGh-",
        "outputId": "9fbd12ee-c160-4a9d-c02a-16e34d3f4573"
      },
      "source": [
        "# get accuracy of training data\n",
        "\n",
        "images, y_train, y_pred_train = get_info(train_generator, model=NN)\n",
        "accuracy_score(y_train, y_pred_train)"
      ],
      "execution_count": 112,
      "outputs": [
        {
          "output_type": "execute_result",
          "data": {
            "text/plain": [
              "0.7952290764790765"
            ]
          },
          "metadata": {},
          "execution_count": 112
        }
      ]
    },
    {
      "cell_type": "code",
      "metadata": {
        "colab": {
          "base_uri": "https://localhost:8080/"
        },
        "id": "5nTfYuN3Gmnp",
        "outputId": "1a892929-33c9-4889-9515-6438198ada56"
      },
      "source": [
        "# accuracy on validation data\n",
        "# model seems to be overfit\n",
        "\n",
        "val_images, y_val, y_pred_val = get_info(val_generator, model=NN)\n",
        "accuracy_score(y_val, y_pred_val)"
      ],
      "execution_count": 113,
      "outputs": [
        {
          "output_type": "execute_result",
          "data": {
            "text/plain": [
              "0.7295103430217335"
            ]
          },
          "metadata": {},
          "execution_count": 113
        }
      ]
    },
    {
      "cell_type": "markdown",
      "metadata": {
        "id": "s3mQC_lZKF8q"
      },
      "source": [
        "## Final Model\n",
        "Model #2 - has the best validation score"
      ]
    },
    {
      "cell_type": "code",
      "metadata": {
        "id": "M_MBv7clIc31"
      },
      "source": [
        "# loading saved model\n",
        "NN_reload = keras.models.load_model('model_2')"
      ],
      "execution_count": 9,
      "outputs": []
    },
    {
      "cell_type": "code",
      "metadata": {
        "id": "TdG6fQ02mzFM"
      },
      "source": [
        "def get_info(generator_name, model):\n",
        "  '''Extracts image data, labels (y) and predictions (y_pred) from generator \n",
        "  and model)\n",
        "  '''\n",
        "  \n",
        "  predictions = np.array([])\n",
        "  labels = np.array([])\n",
        "  images = []\n",
        "  for x, y in generator_name:\n",
        "    predictions = np.concatenate((predictions, np.argmax(model.predict(x), axis=1)))\n",
        "    labels = np.concatenate((labels, np.argmax(y, axis=1)))\n",
        "    images.append(x)\n",
        "  images = np.concatenate(images)\n",
        "  return images, labels, predictions"
      ],
      "execution_count": 40,
      "outputs": []
    },
    {
      "cell_type": "code",
      "metadata": {
        "colab": {
          "base_uri": "https://localhost:8080/"
        },
        "id": "VkHZvjKM2o0p",
        "outputId": "0fc3dc01-1429-4659-8de4-d1631c3be0f2"
      },
      "source": [
        "# get accuracy of training data\n",
        "\n",
        "train_images, y_train, y_pred_train = get_info(train_generator, model=NN_reload)\n",
        "accuracy_score(y_train, y_pred_train)"
      ],
      "execution_count": 42,
      "outputs": [
        {
          "output_type": "execute_result",
          "data": {
            "text/plain": [
              "0.7729978354978355"
            ]
          },
          "metadata": {},
          "execution_count": 42
        }
      ]
    },
    {
      "cell_type": "code",
      "metadata": {
        "colab": {
          "base_uri": "https://localhost:8080/"
        },
        "id": "psDMeam5I4EB",
        "outputId": "0d971986-98cf-45f3-8c85-f1427a5e389c"
      },
      "source": [
        "# accuracy on validation data\n",
        "# model seems to be somewhat overfit, but has the best accuracy score out of all models\n",
        "\n",
        "val_images, y_val, y_pred_val = get_info(val_generator, model=NN_reload)\n",
        "accuracy_score(y_val, y_pred_val)"
      ],
      "execution_count": 43,
      "outputs": [
        {
          "output_type": "execute_result",
          "data": {
            "text/plain": [
              "0.7295103430217335"
            ]
          },
          "metadata": {},
          "execution_count": 43
        }
      ]
    },
    {
      "cell_type": "code",
      "metadata": {
        "colab": {
          "base_uri": "https://localhost:8080/"
        },
        "id": "ITt_XcO6SOKm",
        "outputId": "30d6508f-ef50-4491-db1f-7917794209b0"
      },
      "source": [
        "# accuracy on testing data\n",
        "\n",
        "test_images, y_test, y_pred_test = get_info(test_generator, model=NN)\n",
        "accuracy_score(y_test, y_pred_test)"
      ],
      "execution_count": 41,
      "outputs": [
        {
          "output_type": "execute_result",
          "data": {
            "text/plain": [
              "0.742879746835443"
            ]
          },
          "metadata": {},
          "execution_count": 41
        }
      ]
    },
    {
      "cell_type": "code",
      "metadata": {
        "colab": {
          "base_uri": "https://localhost:8080/"
        },
        "id": "ZnkttMSNzPds",
        "outputId": "726cda9b-861e-4cff-888b-c6368c6d3ac5"
      },
      "source": [
        "test_images.shape"
      ],
      "execution_count": 15,
      "outputs": [
        {
          "output_type": "execute_result",
          "data": {
            "text/plain": [
              "(3792, 112, 112, 1)"
            ]
          },
          "metadata": {},
          "execution_count": 15
        }
      ]
    },
    {
      "cell_type": "code",
      "metadata": {
        "colab": {
          "base_uri": "https://localhost:8080/",
          "height": 359
        },
        "id": "qUvDQ8m71b4u",
        "outputId": "560bdf45-1601-4760-9ec5-91086cb953e5"
      },
      "source": [
        "# making a df of labels and predictions (from testing set)\n",
        "# includes a correct columns - True if prediction is correct, otherwise false\n",
        "\n",
        "df = pd.DataFrame({\"label\": y_test, \"predictions\": y_pred_test})\n",
        "df['correct'] = df['label'] == df['predictions']\n",
        "df.head(10)"
      ],
      "execution_count": 44,
      "outputs": [
        {
          "output_type": "execute_result",
          "data": {
            "text/html": [
              "<div>\n",
              "<style scoped>\n",
              "    .dataframe tbody tr th:only-of-type {\n",
              "        vertical-align: middle;\n",
              "    }\n",
              "\n",
              "    .dataframe tbody tr th {\n",
              "        vertical-align: top;\n",
              "    }\n",
              "\n",
              "    .dataframe thead th {\n",
              "        text-align: right;\n",
              "    }\n",
              "</style>\n",
              "<table border=\"1\" class=\"dataframe\">\n",
              "  <thead>\n",
              "    <tr style=\"text-align: right;\">\n",
              "      <th></th>\n",
              "      <th>label</th>\n",
              "      <th>predictions</th>\n",
              "      <th>correct</th>\n",
              "    </tr>\n",
              "  </thead>\n",
              "  <tbody>\n",
              "    <tr>\n",
              "      <th>0</th>\n",
              "      <td>0.0</td>\n",
              "      <td>0.0</td>\n",
              "      <td>True</td>\n",
              "    </tr>\n",
              "    <tr>\n",
              "      <th>1</th>\n",
              "      <td>1.0</td>\n",
              "      <td>1.0</td>\n",
              "      <td>True</td>\n",
              "    </tr>\n",
              "    <tr>\n",
              "      <th>2</th>\n",
              "      <td>2.0</td>\n",
              "      <td>1.0</td>\n",
              "      <td>False</td>\n",
              "    </tr>\n",
              "    <tr>\n",
              "      <th>3</th>\n",
              "      <td>2.0</td>\n",
              "      <td>2.0</td>\n",
              "      <td>True</td>\n",
              "    </tr>\n",
              "    <tr>\n",
              "      <th>4</th>\n",
              "      <td>0.0</td>\n",
              "      <td>0.0</td>\n",
              "      <td>True</td>\n",
              "    </tr>\n",
              "    <tr>\n",
              "      <th>5</th>\n",
              "      <td>1.0</td>\n",
              "      <td>1.0</td>\n",
              "      <td>True</td>\n",
              "    </tr>\n",
              "    <tr>\n",
              "      <th>6</th>\n",
              "      <td>1.0</td>\n",
              "      <td>1.0</td>\n",
              "      <td>True</td>\n",
              "    </tr>\n",
              "    <tr>\n",
              "      <th>7</th>\n",
              "      <td>0.0</td>\n",
              "      <td>0.0</td>\n",
              "      <td>True</td>\n",
              "    </tr>\n",
              "    <tr>\n",
              "      <th>8</th>\n",
              "      <td>2.0</td>\n",
              "      <td>0.0</td>\n",
              "      <td>False</td>\n",
              "    </tr>\n",
              "    <tr>\n",
              "      <th>9</th>\n",
              "      <td>0.0</td>\n",
              "      <td>0.0</td>\n",
              "      <td>True</td>\n",
              "    </tr>\n",
              "  </tbody>\n",
              "</table>\n",
              "</div>"
            ],
            "text/plain": [
              "   label  predictions  correct\n",
              "0    0.0          0.0     True\n",
              "1    1.0          1.0     True\n",
              "2    2.0          1.0    False\n",
              "3    2.0          2.0     True\n",
              "4    0.0          0.0     True\n",
              "5    1.0          1.0     True\n",
              "6    1.0          1.0     True\n",
              "7    0.0          0.0     True\n",
              "8    2.0          0.0    False\n",
              "9    0.0          0.0     True"
            ]
          },
          "metadata": {},
          "execution_count": 44
        }
      ]
    },
    {
      "cell_type": "code",
      "metadata": {
        "colab": {
          "base_uri": "https://localhost:8080/",
          "height": 419
        },
        "id": "7t4-nydY2O_W",
        "outputId": "519be629-fb39-4e87-880a-84f44be158e1"
      },
      "source": [
        "# Returns rows that are not correct\n",
        "# 1030 out of 3792 images in test set\n",
        "\n",
        "df[~df['correct']]"
      ],
      "execution_count": 45,
      "outputs": [
        {
          "output_type": "execute_result",
          "data": {
            "text/html": [
              "<div>\n",
              "<style scoped>\n",
              "    .dataframe tbody tr th:only-of-type {\n",
              "        vertical-align: middle;\n",
              "    }\n",
              "\n",
              "    .dataframe tbody tr th {\n",
              "        vertical-align: top;\n",
              "    }\n",
              "\n",
              "    .dataframe thead th {\n",
              "        text-align: right;\n",
              "    }\n",
              "</style>\n",
              "<table border=\"1\" class=\"dataframe\">\n",
              "  <thead>\n",
              "    <tr style=\"text-align: right;\">\n",
              "      <th></th>\n",
              "      <th>label</th>\n",
              "      <th>predictions</th>\n",
              "      <th>correct</th>\n",
              "    </tr>\n",
              "  </thead>\n",
              "  <tbody>\n",
              "    <tr>\n",
              "      <th>2</th>\n",
              "      <td>2.0</td>\n",
              "      <td>1.0</td>\n",
              "      <td>False</td>\n",
              "    </tr>\n",
              "    <tr>\n",
              "      <th>8</th>\n",
              "      <td>2.0</td>\n",
              "      <td>0.0</td>\n",
              "      <td>False</td>\n",
              "    </tr>\n",
              "    <tr>\n",
              "      <th>11</th>\n",
              "      <td>2.0</td>\n",
              "      <td>0.0</td>\n",
              "      <td>False</td>\n",
              "    </tr>\n",
              "    <tr>\n",
              "      <th>21</th>\n",
              "      <td>1.0</td>\n",
              "      <td>2.0</td>\n",
              "      <td>False</td>\n",
              "    </tr>\n",
              "    <tr>\n",
              "      <th>28</th>\n",
              "      <td>2.0</td>\n",
              "      <td>0.0</td>\n",
              "      <td>False</td>\n",
              "    </tr>\n",
              "    <tr>\n",
              "      <th>...</th>\n",
              "      <td>...</td>\n",
              "      <td>...</td>\n",
              "      <td>...</td>\n",
              "    </tr>\n",
              "    <tr>\n",
              "      <th>3779</th>\n",
              "      <td>0.0</td>\n",
              "      <td>1.0</td>\n",
              "      <td>False</td>\n",
              "    </tr>\n",
              "    <tr>\n",
              "      <th>3780</th>\n",
              "      <td>2.0</td>\n",
              "      <td>0.0</td>\n",
              "      <td>False</td>\n",
              "    </tr>\n",
              "    <tr>\n",
              "      <th>3783</th>\n",
              "      <td>0.0</td>\n",
              "      <td>2.0</td>\n",
              "      <td>False</td>\n",
              "    </tr>\n",
              "    <tr>\n",
              "      <th>3784</th>\n",
              "      <td>2.0</td>\n",
              "      <td>1.0</td>\n",
              "      <td>False</td>\n",
              "    </tr>\n",
              "    <tr>\n",
              "      <th>3791</th>\n",
              "      <td>2.0</td>\n",
              "      <td>1.0</td>\n",
              "      <td>False</td>\n",
              "    </tr>\n",
              "  </tbody>\n",
              "</table>\n",
              "<p>975 rows × 3 columns</p>\n",
              "</div>"
            ],
            "text/plain": [
              "      label  predictions  correct\n",
              "2       2.0          1.0    False\n",
              "8       2.0          0.0    False\n",
              "11      2.0          0.0    False\n",
              "21      1.0          2.0    False\n",
              "28      2.0          0.0    False\n",
              "...     ...          ...      ...\n",
              "3779    0.0          1.0    False\n",
              "3780    2.0          0.0    False\n",
              "3783    0.0          2.0    False\n",
              "3784    2.0          1.0    False\n",
              "3791    2.0          1.0    False\n",
              "\n",
              "[975 rows x 3 columns]"
            ]
          },
          "metadata": {},
          "execution_count": 45
        }
      ]
    },
    {
      "cell_type": "code",
      "metadata": {
        "colab": {
          "base_uri": "https://localhost:8080/",
          "height": 285
        },
        "id": "YQ1R0CYgzrKi",
        "outputId": "e82bf8c5-feb4-4e59-a0f5-a71b83625c27"
      },
      "source": [
        "# image of an incorrect classification (2 --> 1)\n",
        "\n",
        "\n",
        "plt.imshow(test_images[2, :, :, :].reshape((112,112)), cmap='gray')"
      ],
      "execution_count": 48,
      "outputs": [
        {
          "output_type": "execute_result",
          "data": {
            "text/plain": [
              "<matplotlib.image.AxesImage at 0x7f072e3967d0>"
            ]
          },
          "metadata": {},
          "execution_count": 48
        },
        {
          "output_type": "display_data",
          "data": {
            "image/png": "[encoded data removed]",
            "text/plain": [
              "<Figure size 432x288 with 1 Axes>"
            ]
          },
          "metadata": {
            "needs_background": "light"
          }
        }
      ]
    },
    {
      "cell_type": "code",
      "metadata": {
        "colab": {
          "base_uri": "https://localhost:8080/",
          "height": 606
        },
        "id": "QpwExOSYRc8z",
        "outputId": "d162ffe7-6567-4995-e1e7-6d68dd477f50"
      },
      "source": [
        "# confusion matrix on test data\n",
        "\n",
        "plt.figure(dpi=200)\n",
        "confusion_test = confusion_matrix(y_test, y_pred_test)\n",
        "sns.heatmap(confusion_test, cmap=plt.cm.Reds, annot=True, square=True, fmt='d',\n",
        "            xticklabels=['End-diastole', 'End-systole', 'Other'],\n",
        "            yticklabels=['End-diastole', 'End-systole', 'Other'] )\n",
        "plt.xlabel('Predicted class', labelpad=10, fontsize=12)\n",
        "plt.ylabel('Actual class', labelpad=10, fontsize=12)\n",
        "#plt.title('Classification of cardiac cycle images',);"
      ],
      "execution_count": 39,
      "outputs": [
        {
          "output_type": "execute_result",
          "data": {
            "text/plain": [
              "Text(231.4444444444446, 0.5, 'Actual class')"
            ]
          },
          "metadata": {},
          "execution_count": 39
        },
        {
          "output_type": "display_data",
          "data": {
            "image/png": "[encoded data removed]",
            "text/plain": [
              "<Figure size 1200x800 with 2 Axes>"
            ]
          },
          "metadata": {
            "needs_background": "light"
          }
        }
      ]
    },
    {
      "cell_type": "code",
      "metadata": {
        "colab": {
          "base_uri": "https://localhost:8080/"
        },
        "id": "K7Xr1_3OS46Y",
        "outputId": "0c314523-e2dd-4ebd-8bb7-c63baf614d59"
      },
      "source": [
        "print(classification_report(y_test, y_pred_test))"
      ],
      "execution_count": 27,
      "outputs": [
        {
          "output_type": "stream",
          "name": "stdout",
          "text": [
            "              precision    recall  f1-score   support\n",
            "\n",
            "         0.0       0.73      0.87      0.79      1264\n",
            "         1.0       0.78      0.80      0.79      1264\n",
            "         2.0       0.72      0.55      0.62      1264\n",
            "\n",
            "    accuracy                           0.74      3792\n",
            "   macro avg       0.74      0.74      0.74      3792\n",
            "weighted avg       0.74      0.74      0.74      3792\n",
            "\n"
          ]
        }
      ]
    },
    {
      "cell_type": "code",
      "metadata": {
        "colab": {
          "base_uri": "https://localhost:8080/"
        },
        "id": "jGMD1oYYmtzU",
        "outputId": "bd80ad11-b2e4-4d33-8e29-5fdf8868fe15"
      },
      "source": [
        "print(classification_report(y_test, y_pred_test))"
      ],
      "execution_count": 21,
      "outputs": [
        {
          "output_type": "stream",
          "name": "stdout",
          "text": [
            "              precision    recall  f1-score   support\n",
            "\n",
            "         0.0       0.83      0.72      0.77      1264\n",
            "         1.0       0.84      0.65      0.73      1264\n",
            "         2.0       0.58      0.80      0.67      1264\n",
            "\n",
            "    accuracy                           0.72      3792\n",
            "   macro avg       0.75      0.72      0.73      3792\n",
            "weighted avg       0.75      0.72      0.73      3792\n",
            "\n"
          ]
        }
      ]
    },
    {
      "cell_type": "code",
      "metadata": {
        "id": "hkaQauSuzLbi"
      },
      "source": [
        ""
      ],
      "execution_count": null,
      "outputs": []
    }
  ]
}